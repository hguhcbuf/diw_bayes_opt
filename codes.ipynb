{
 "cells": [
  {
   "cell_type": "code",
   "execution_count": null,
   "id": "06391aa7",
   "metadata": {},
   "outputs": [],
   "source": [
    "from bayes_opt import BayesianOptimization\n",
    "\n",
    "import tensorflow as tf\n",
    "import matplotlib.pyplot as plt\n",
    "import cv2\n",
    "import os\n",
    "import numpy as np\n",
    "from tensorflow.keras.preprocessing.image import ImageDataGenerator\n",
    "from tensorflow.keras.preprocessing import image\n",
    "import cv2\n",
    "from PIL import Image\n",
    "from tensorflow import keras\n",
    "from glob import glob\n",
    "from sklearn.model_selection import train_test_split"
   ]
  },
  {
   "cell_type": "markdown",
   "id": "a187dfbd",
   "metadata": {},
   "source": [
    "# Image Preparation"
   ]
  },
  {
   "cell_type": "code",
   "execution_count": 3,
   "id": "e4076068",
   "metadata": {},
   "outputs": [
    {
     "data": {
      "text/plain": [
       "(600, 800, 3)"
      ]
     },
     "execution_count": 3,
     "metadata": {},
     "output_type": "execute_result"
    }
   ],
   "source": [
    "cv2.imread(\"cnn_aggregated/335.bmp\").shape"
   ]
  },
  {
   "cell_type": "code",
   "execution_count": 5,
   "id": "03120436",
   "metadata": {},
   "outputs": [
    {
     "ename": "FileNotFoundError",
     "evalue": "[Errno 2] No such file or directory: 'test_image.bmp'",
     "output_type": "error",
     "traceback": [
      "\u001b[0;31m---------------------------------------------------------------------------\u001b[0m",
      "\u001b[0;31mFileNotFoundError\u001b[0m                         Traceback (most recent call last)",
      "\u001b[0;32m/var/folders/m2/rfbqfll16cb1y5f8046z7cwh0000gn/T/ipykernel_78601/3465685821.py\u001b[0m in \u001b[0;36m<module>\u001b[0;34m\u001b[0m\n\u001b[0;32m----> 1\u001b[0;31m \u001b[0mim\u001b[0m \u001b[0;34m=\u001b[0m \u001b[0mImage\u001b[0m\u001b[0;34m.\u001b[0m\u001b[0mopen\u001b[0m\u001b[0;34m(\u001b[0m\u001b[0;34m\"test_image.bmp\"\u001b[0m\u001b[0;34m)\u001b[0m\u001b[0;34m\u001b[0m\u001b[0;34m\u001b[0m\u001b[0m\n\u001b[0m\u001b[1;32m      2\u001b[0m \u001b[0mim\u001b[0m\u001b[0;34m.\u001b[0m\u001b[0mshow\u001b[0m\u001b[0;34m(\u001b[0m\u001b[0;34m)\u001b[0m\u001b[0;34m\u001b[0m\u001b[0;34m\u001b[0m\u001b[0m\n\u001b[1;32m      3\u001b[0m \u001b[0mcropped\u001b[0m \u001b[0;34m=\u001b[0m \u001b[0mim\u001b[0m\u001b[0;34m.\u001b[0m\u001b[0mcrop\u001b[0m\u001b[0;34m(\u001b[0m\u001b[0;34m(\u001b[0m\u001b[0;36m1\u001b[0m\u001b[0;34m,\u001b[0m\u001b[0;36m1\u001b[0m\u001b[0;34m,\u001b[0m\u001b[0;36m400\u001b[0m\u001b[0;34m,\u001b[0m\u001b[0;36m300\u001b[0m\u001b[0;34m)\u001b[0m\u001b[0;34m)\u001b[0m\u001b[0;34m\u001b[0m\u001b[0;34m\u001b[0m\u001b[0m\n\u001b[1;32m      4\u001b[0m \u001b[0mcropped_2\u001b[0m \u001b[0;34m=\u001b[0m \u001b[0mim\u001b[0m\u001b[0;34m.\u001b[0m\u001b[0mcrop\u001b[0m\u001b[0;34m(\u001b[0m\u001b[0;34m(\u001b[0m\u001b[0;36m401\u001b[0m\u001b[0;34m,\u001b[0m\u001b[0;36m1\u001b[0m\u001b[0;34m,\u001b[0m\u001b[0;36m800\u001b[0m\u001b[0;34m,\u001b[0m\u001b[0;36m300\u001b[0m\u001b[0;34m)\u001b[0m\u001b[0;34m)\u001b[0m\u001b[0;34m\u001b[0m\u001b[0;34m\u001b[0m\u001b[0m\n\u001b[1;32m      5\u001b[0m \u001b[0mcropped\u001b[0m\u001b[0;34m.\u001b[0m\u001b[0mshow\u001b[0m\u001b[0;34m(\u001b[0m\u001b[0;34m)\u001b[0m\u001b[0;34m\u001b[0m\u001b[0;34m\u001b[0m\u001b[0m\n",
      "\u001b[0;32m~/opt/anaconda3/envs/chem_ai/lib/python3.7/site-packages/PIL/Image.py\u001b[0m in \u001b[0;36mopen\u001b[0;34m(fp, mode, formats)\u001b[0m\n\u001b[1;32m   2951\u001b[0m \u001b[0;34m\u001b[0m\u001b[0m\n\u001b[1;32m   2952\u001b[0m     \u001b[0;32mif\u001b[0m \u001b[0mfilename\u001b[0m\u001b[0;34m:\u001b[0m\u001b[0;34m\u001b[0m\u001b[0;34m\u001b[0m\u001b[0m\n\u001b[0;32m-> 2953\u001b[0;31m         \u001b[0mfp\u001b[0m \u001b[0;34m=\u001b[0m \u001b[0mbuiltins\u001b[0m\u001b[0;34m.\u001b[0m\u001b[0mopen\u001b[0m\u001b[0;34m(\u001b[0m\u001b[0mfilename\u001b[0m\u001b[0;34m,\u001b[0m \u001b[0;34m\"rb\"\u001b[0m\u001b[0;34m)\u001b[0m\u001b[0;34m\u001b[0m\u001b[0;34m\u001b[0m\u001b[0m\n\u001b[0m\u001b[1;32m   2954\u001b[0m         \u001b[0mexclusive_fp\u001b[0m \u001b[0;34m=\u001b[0m \u001b[0;32mTrue\u001b[0m\u001b[0;34m\u001b[0m\u001b[0;34m\u001b[0m\u001b[0m\n\u001b[1;32m   2955\u001b[0m \u001b[0;34m\u001b[0m\u001b[0m\n",
      "\u001b[0;31mFileNotFoundError\u001b[0m: [Errno 2] No such file or directory: 'test_image.bmp'"
     ]
    }
   ],
   "source": [
    "\n",
    "im = Image.open(\"test_image.bmp\")\n",
    "im.show()\n",
    "cropped = im.crop((1,1,400,300))\n",
    "cropped_2 = im.crop((401,1,800,300))\n",
    "cropped.show()\n",
    "cropped_2.show()"
   ]
  },
  {
   "cell_type": "code",
   "execution_count": 7,
   "id": "0e9ffa5d",
   "metadata": {},
   "outputs": [],
   "source": [
    "def cropImage(image_name, save_1, save_2):\n",
    "    \n",
    "    im = Image.open(image_name)\n",
    "    cropped_1 = im.crop((1,1,400,300))\n",
    "    cropped_2 = im.crop((401,1,800,300))\n",
    "    cropped_1.save(save_1)\n",
    "    cropped_2.save(save_2)\n",
    "    \n",
    "    return\n"
   ]
  },
  {
   "cell_type": "code",
   "execution_count": 8,
   "id": "dbbbd1ce",
   "metadata": {},
   "outputs": [],
   "source": [
    "def crop_folder_images(directory):\n",
    "    \n",
    "    count = 1\n",
    "    \n",
    "    for file in os.listdir(directory):\n",
    "        if file != '.DS_Store':\n",
    "            cropImage(directory + \"/\" + file, directory + \"_cropped/\" + str(count) + \".bmp\", directory + \"_cropped/\" + str(count+1) + \".bmp\")\n",
    "            count += 2\n",
    "        \n",
    "    return"
   ]
  },
  {
   "cell_type": "code",
   "execution_count": 62,
   "id": "6268e4f4",
   "metadata": {},
   "outputs": [],
   "source": [
    "from PIL import ImageFile \n",
    "ImageFile.LOAD_TRUNCATED_IMAGES = True\n",
    "\n",
    "crop_folder_images(\"cnn_aggregated\")\n",
    "crop_folder_images(\"cnn_coiled\")\n",
    "crop_folder_images(\"cnn_disconnected\")\n",
    "crop_folder_images(\"cnn_straight\")"
   ]
  },
  {
   "cell_type": "markdown",
   "id": "c579d405",
   "metadata": {},
   "source": [
    "# Image Processing"
   ]
  },
  {
   "cell_type": "code",
   "execution_count": 2,
   "id": "466f8c00",
   "metadata": {},
   "outputs": [
    {
     "data": {
      "text/plain": [
       "(299, 399, 3)"
      ]
     },
     "execution_count": 2,
     "metadata": {},
     "output_type": "execute_result"
    }
   ],
   "source": [
    "cv2.imread(\"cnn_aggregated_cropped/3.bmp\").shape"
   ]
  },
  {
   "cell_type": "code",
   "execution_count": 3,
   "id": "9526a351",
   "metadata": {},
   "outputs": [],
   "source": [
    "dic = {\"disconnected\":0, \"straight\":1, \"coiled\":2, \"aggregated\":3}\n",
    "X = []\n",
    "Y = []\n",
    "for i in os.listdir(\"cnn_disconnected\"):\n",
    "    if i != '.DS_Store':\n",
    "        image = Image.open(\"cnn_disconnected/\"+i).convert(\"L\")\n",
    "        image = image.resize((128,128))\n",
    "        image = np.array(image)\n",
    "        X.append(image)\n",
    "        Y.append(0)\n",
    "\n",
    "for i in os.listdir(\"cnn_straight\"):\n",
    "    if i != '.DS_Store':\n",
    "        image = Image.open(\"cnn_straight/\"+i).convert(\"L\")\n",
    "        image = image.resize((128,128))\n",
    "        image = np.array(image)\n",
    "        X.append(image)\n",
    "        Y.append(1)\n",
    "        \n",
    "for i in os.listdir(\"cnn_coiled\"):\n",
    "    if i != '.DS_Store':\n",
    "        image = Image.open(\"cnn_coiled/\"+i).convert(\"L\")\n",
    "        image = image.resize((128,128))\n",
    "        image = np.array(image)\n",
    "        X.append(image)\n",
    "        Y.append(2)\n",
    "        \n",
    "for i in os.listdir(\"cnn_aggregated\"):\n",
    "    if i != '.DS_Store':\n",
    "        image = Image.open(\"cnn_aggregated/\"+i).convert(\"L\")\n",
    "        image = image.resize((128,128))\n",
    "        image = np.array(image)\n",
    "        X.append(image)\n",
    "        Y.append(3)"
   ]
  },
  {
   "cell_type": "code",
   "execution_count": 4,
   "id": "8b281666",
   "metadata": {},
   "outputs": [],
   "source": [
    "X = np.array(X)\n",
    "Y = np.array(Y)"
   ]
  },
  {
   "cell_type": "code",
   "execution_count": 5,
   "id": "3dff5dfb",
   "metadata": {},
   "outputs": [
    {
     "data": {
      "text/plain": [
       "((1664, 128, 128), (1664, 1), (417, 128, 128), (417, 1))"
      ]
     },
     "execution_count": 5,
     "metadata": {},
     "output_type": "execute_result"
    }
   ],
   "source": [
    "train_images, test_images, train_labels, test_labels = train_test_split(X, Y, test_size=0.2, shuffle=True,\n",
    "                                                                       random_state=44)\n",
    "\n",
    "train_labels = train_labels[..., tf.newaxis]\n",
    "test_labels = test_labels[..., tf.newaxis]\n",
    "\n",
    "train_images.shape, train_labels.shape, test_images.shape, test_labels.shape"
   ]
  },
  {
   "cell_type": "code",
   "execution_count": 6,
   "id": "ec155928",
   "metadata": {},
   "outputs": [
    {
     "data": {
      "text/plain": [
       "{0: 403, 1: 386, 2: 473, 3: 402}"
      ]
     },
     "execution_count": 6,
     "metadata": {},
     "output_type": "execute_result"
    }
   ],
   "source": [
    "unique, counts = np.unique(np.reshape(train_labels, (1664,)), axis=-1, return_counts=True)\n",
    "dict(zip(unique, counts))"
   ]
  },
  {
   "cell_type": "code",
   "execution_count": 7,
   "id": "2ef36627",
   "metadata": {},
   "outputs": [
    {
     "data": {
      "text/plain": [
       "{0: 101, 1: 103, 2: 125, 3: 88}"
      ]
     },
     "execution_count": 7,
     "metadata": {},
     "output_type": "execute_result"
    }
   ],
   "source": [
    "unique, counts = np.unique(np.reshape(test_labels, (417,)), axis=-1, return_counts=True)\n",
    "dict(zip(unique, counts))"
   ]
  },
  {
   "cell_type": "code",
   "execution_count": 8,
   "id": "807f9757",
   "metadata": {},
   "outputs": [],
   "source": [
    "N_TRAIN = train_images.shape[0]\n",
    "N_TEST = test_images.shape[0]"
   ]
  },
  {
   "cell_type": "code",
   "execution_count": 9,
   "id": "0eacc4f6",
   "metadata": {},
   "outputs": [],
   "source": [
    "train_images = train_images.reshape(train_images.shape[0], train_images.shape[1], train_images.shape[2], 1)\n",
    "test_images = test_images.reshape(test_images.shape[0], test_images.shape[1], test_images.shape[2], 1)"
   ]
  },
  {
   "cell_type": "code",
   "execution_count": 10,
   "id": "a28785e6",
   "metadata": {},
   "outputs": [],
   "source": [
    "train_images = train_images.astype(np.float32) / 255.\n",
    "test_images = test_images.astype(np.float32) / 255.\n",
    "\n",
    "train_labels = keras.utils.to_categorical(train_labels)\n",
    "test_labels = keras.utils.to_categorical(test_labels)"
   ]
  },
  {
   "cell_type": "code",
   "execution_count": 11,
   "id": "17a679ef",
   "metadata": {},
   "outputs": [
    {
     "name": "stdout",
     "output_type": "stream",
     "text": [
      "(1664, 128, 128, 1) (1664, 4)\n",
      "(417, 128, 128, 1) (417, 4)\n"
     ]
    }
   ],
   "source": [
    "print(train_images.shape, train_labels.shape)\n",
    "print(test_images.shape, test_labels.shape)"
   ]
  },
  {
   "cell_type": "code",
   "execution_count": 12,
   "id": "f8481528",
   "metadata": {},
   "outputs": [
    {
     "name": "stderr",
     "output_type": "stream",
     "text": [
      "2022-05-14 14:45:42.607981: I tensorflow/core/platform/cpu_feature_guard.cc:145] This TensorFlow binary is optimized with Intel(R) MKL-DNN to use the following CPU instructions in performance critical operations:  SSE4.1 SSE4.2 AVX AVX2 FMA\n",
      "To enable them in non-MKL-DNN operations, rebuild TensorFlow with the appropriate compiler flags.\n",
      "2022-05-14 14:45:42.608397: I tensorflow/core/common_runtime/process_util.cc:115] Creating new thread pool with default inter op setting: 12. Tune using inter_op_parallelism_threads for best performance.\n"
     ]
    },
    {
     "data": {
      "text/plain": [
       "<BatchDataset shapes: ((None, 128, 128, 1), (None, 4)), types: (tf.float32, tf.float32)>"
      ]
     },
     "execution_count": 12,
     "metadata": {},
     "output_type": "execute_result"
    }
   ],
   "source": [
    "N_BATCH = 50\n",
    "train_dataset = tf.data.Dataset.from_tensor_slices((train_images, train_labels)).shuffle(buffer_size=1664).batch(N_BATCH).repeat()\n",
    "test_dataset = tf.data.Dataset.from_tensor_slices((test_images, test_labels)).batch(N_BATCH)\n",
    "test_dataset"
   ]
  },
  {
   "cell_type": "code",
   "execution_count": 13,
   "id": "e00241e2",
   "metadata": {},
   "outputs": [],
   "source": [
    "from tensorflow.keras.callbacks import ModelCheckpoint, EarlyStopping\n",
    "\n",
    "# checkpoint_cb = ModelCheckpoint(\"saved_model.h5\", save_best_only=True)\n",
    "\n",
    "patience=10\n",
    "early_stopping_cb = EarlyStopping(patience=patience, restore_best_weights=True, monitor='val_loss')"
   ]
  },
  {
   "cell_type": "code",
   "execution_count": 14,
   "id": "1f8cb2f5",
   "metadata": {},
   "outputs": [],
   "source": [
    "# callback\n",
    "patience=10\n",
    "early_stopping_cb = EarlyStopping(patience=patience, restore_best_weights=True, monitor='val_loss')\n",
    "\n",
    "# sequential model\n",
    "cnn_model = keras.models.Sequential()\n",
    "\n",
    "# input and convolutional layer\n",
    "cnn_model.add(keras.layers.Conv2D(32, 7, activation='relu', padding='same',\n",
    "                                  input_shape=[128, 128, 1]))\n",
    "# pooling layer\n",
    "cnn_model.add(keras.layers.MaxPooling2D(2))\n",
    "\n",
    "# convolutional layers and pooling layer\n",
    "\n",
    "cnn_model.add(keras.layers.Conv2D(64, 3, activation='relu', padding='same'))\n",
    "cnn_model.add(keras.layers.MaxPooling2D(2))\n",
    "\n",
    "# convolutional layers and pooling layer\n",
    "\n",
    "cnn_model.add(keras.layers.Conv2D(128, 3, activation='relu', padding='same'))\n",
    "cnn_model.add(keras.layers.MaxPooling2D(2))\n",
    "\n",
    "# flatten layer\n",
    "cnn_model.add(keras.layers.Flatten())\n",
    "\n",
    "# dense layers\n",
    "cnn_model.add(keras.layers.Dense(256, activation='relu'))\n",
    "cnn_model.add(keras.layers.Dropout(0.4))\n",
    "\n",
    "# output layer\n",
    "cnn_model.add(keras.layers.Dense(4, activation='softmax'))\n",
    "\n",
    "# model complie\n",
    "cnn_model.compile(loss=\"categorical_crossentropy\",\n",
    "                  optimizer=\"adam\",\n",
    "                  metrics=[\"accuracy\"])"
   ]
  },
  {
   "cell_type": "code",
   "execution_count": 15,
   "id": "924aa631",
   "metadata": {},
   "outputs": [
    {
     "name": "stdout",
     "output_type": "stream",
     "text": [
      "Model: \"sequential\"\n",
      "_________________________________________________________________\n",
      "Layer (type)                 Output Shape              Param #   \n",
      "=================================================================\n",
      "conv2d (Conv2D)              (None, 128, 128, 32)      1600      \n",
      "_________________________________________________________________\n",
      "max_pooling2d (MaxPooling2D) (None, 64, 64, 32)        0         \n",
      "_________________________________________________________________\n",
      "conv2d_1 (Conv2D)            (None, 64, 64, 64)        18496     \n",
      "_________________________________________________________________\n",
      "max_pooling2d_1 (MaxPooling2 (None, 32, 32, 64)        0         \n",
      "_________________________________________________________________\n",
      "conv2d_2 (Conv2D)            (None, 32, 32, 128)       73856     \n",
      "_________________________________________________________________\n",
      "max_pooling2d_2 (MaxPooling2 (None, 16, 16, 128)       0         \n",
      "_________________________________________________________________\n",
      "flatten (Flatten)            (None, 32768)             0         \n",
      "_________________________________________________________________\n",
      "dense (Dense)                (None, 256)               8388864   \n",
      "_________________________________________________________________\n",
      "dropout (Dropout)            (None, 256)               0         \n",
      "_________________________________________________________________\n",
      "dense_1 (Dense)              (None, 4)                 1028      \n",
      "=================================================================\n",
      "Total params: 8,483,844\n",
      "Trainable params: 8,483,844\n",
      "Non-trainable params: 0\n",
      "_________________________________________________________________\n"
     ]
    }
   ],
   "source": [
    "cnn_model.summary()"
   ]
  },
  {
   "cell_type": "code",
   "execution_count": 16,
   "id": "001e8bf9",
   "metadata": {},
   "outputs": [
    {
     "name": "stdout",
     "output_type": "stream",
     "text": [
      "33 8\n"
     ]
    }
   ],
   "source": [
    "steps_per_epoch = N_TRAIN//N_BATCH\n",
    "validation_steps = N_TEST//N_BATCH\n",
    "print(steps_per_epoch, validation_steps)"
   ]
  },
  {
   "cell_type": "code",
   "execution_count": null,
   "id": "80993fc2",
   "metadata": {},
   "outputs": [],
   "source": [
    "istrue = os.path.exists(\"cnn_model.h2\")\n",
    "\n",
    "if not istrue:\n",
    "    history = cnn_model.fit(train_dataset, \n",
    "                        epochs=50, steps_per_epoch=steps_per_epoch, callbacks=[early_stopping_cb], \n",
    "                        validation_data=test_dataset, validation_steps=validation_steps)\n",
    "    cnn_model.save('cnn_model.h2')\n",
    "    print(\"model is saved\")\n",
    "else:\n",
    "    cnn_model = keras.models.load_model('cnn_model.h2')\n",
    "    print(\"model is loaded\")"
   ]
  },
  {
   "cell_type": "code",
   "execution_count": 36,
   "id": "a78813d4",
   "metadata": {},
   "outputs": [
    {
     "name": "stdout",
     "output_type": "stream",
     "text": [
      "9/9 [==============================] - 2s 210ms/step - loss: 0.0039 - accuracy: 0.9976\n"
     ]
    },
    {
     "data": {
      "text/plain": [
       "[0.003941419398567329, 0.9976019]"
      ]
     },
     "execution_count": 36,
     "metadata": {},
     "output_type": "execute_result"
    }
   ],
   "source": [
    "cnn_model.evaluate(test_dataset)"
   ]
  },
  {
   "cell_type": "code",
   "execution_count": 37,
   "id": "65a22778",
   "metadata": {},
   "outputs": [
    {
     "data": {
      "image/png": "[encoded data removed]",
      "text/plain": [
       "<Figure size 432x288 with 1 Axes>"
      ]
     },
     "metadata": {
      "needs_background": "light"
     },
     "output_type": "display_data"
    }
   ],
   "source": [
    "plt.plot(history.history['loss'], 'b-', label='loss')\n",
    "plt.plot(history.history['val_loss'], 'r--', label='val_loss')\n",
    "plt.xlabel('Epoch')\n",
    "plt.legend()\n",
    "plt.show()"
   ]
  },
  {
   "cell_type": "code",
   "execution_count": null,
   "id": "82fde3be",
   "metadata": {},
   "outputs": [],
   "source": [
    "plt.plot(history.history['accuracy'], 'b-', label='accuracy')\n",
    "plt.plot(history.history['val_accuracy'], 'r--', label='val_accuracy')\n",
    "plt.xlabel('Epoch')\n",
    "plt.legend\n",
    "plt.show()"
   ]
  },
  {
   "cell_type": "code",
   "execution_count": 39,
   "id": "b826c8b8",
   "metadata": {},
   "outputs": [
    {
     "data": {
      "text/plain": [
       "array([[101,   0,   0,   0],\n",
       "       [  0, 102,   0,   1],\n",
       "       [  0,   0, 125,   0],\n",
       "       [  0,   0,   0,  88]])"
      ]
     },
     "execution_count": 39,
     "metadata": {},
     "output_type": "execute_result"
    }
   ],
   "source": [
    "from sklearn.metrics import confusion_matrix, ConfusionMatrixDisplay\n",
    "\n",
    "y_pred_onehot = cnn_model.predict(test_images)\n",
    "y_pred = y_pred_onehot.argmax(axis=1)\n",
    "y_actual = test_labels.argmax(axis=1)\n",
    "cm_cnn = confusion_matrix(y_actual, y_pred)\n",
    "cm_cnn"
   ]
  },
  {
   "cell_type": "code",
   "execution_count": 40,
   "id": "f43ee392",
   "metadata": {},
   "outputs": [
    {
     "data": {
      "image/png": "[encoded data removed]",
      "text/plain": [
       "<Figure size 1200x600 with 1 Axes>"
      ]
     },
     "metadata": {
      "needs_background": "light"
     },
     "output_type": "display_data"
    }
   ],
   "source": [
    "import seaborn as sns\n",
    "plt.figure(figsize=(12,6), dpi=100)\n",
    "class_names = [\"discontinuous\", \"straight\", \"coiling\", \"accumulation\"]\n",
    "sns.heatmap(cm_cnn, annot=True, fmt='.0f',\n",
    "            cmap='Blues', \n",
    "            xticklabels=class_names,\n",
    "            yticklabels=class_names,\n",
    "            cbar=False)\n",
    "plt.title(\"CNN model\")\n",
    "plt.xlabel(\"prediction\")\n",
    "plt.ylabel(\"actual\")\n",
    "plt.tight_layout()\n",
    "plt.show()"
   ]
  },
  {
   "cell_type": "markdown",
   "id": "9a24219b",
   "metadata": {},
   "source": [
    "# Printing Score"
   ]
  },
  {
   "cell_type": "code",
   "execution_count": 7,
   "id": "15f2009a",
   "metadata": {},
   "outputs": [
    {
     "name": "stdout",
     "output_type": "stream",
     "text": [
      "mean =  63.23161856963613\n",
      "std =  18.359490130588224\n"
     ]
    }
   ],
   "source": [
    "folderStringPrinted = \"/Users/jonghyun/Desktop/graphene oxide ink/bayesian_opt/bayes_opt_3/bayesian_opt__45-1.bmp\"\n",
    "grayScalePrintedImage = cv2.imread(folderStringPrinted, cv2.IMREAD_GRAYSCALE)\n",
    "ret, printedImage = cv2.threshold(grayScalePrintedImage, 100, 255, cv2.THRESH_BINARY)\n",
    "\n",
    "folderStringPrinted_2 = \"/Users/jonghyun/Desktop/graphene oxide ink/bayesian_opt/bayes_opt_3/bayesian_opt__45-2.bmp\"\n",
    "grayScalePrintedImage_2 = cv2.imread(folderStringPrinted_2, cv2.IMREAD_GRAYSCALE)\n",
    "ret_2, printedImage_2 = cv2.threshold(grayScalePrintedImage_2, 100, 255, cv2.THRESH_BINARY)\n",
    "\n",
    "def LayerImageScore(image):\n",
    "    h, w = image.shape  \n",
    "    result = []\n",
    "    \n",
    "    for i in range(w):\n",
    "      score = 0\n",
    "      for j in range(h):\n",
    "          if image[j][i] == 0:\n",
    "            score += 1\n",
    "          \n",
    "      if score != 0:\n",
    "        result.append(score)  \n",
    "    return result\n",
    "\n",
    "result_array = LayerImageScore(printedImage)\n",
    "var = np.var(result_array)\n",
    "std = np.std(result_array)\n",
    "m = np.mean(result_array)\n",
    "\n",
    "result_array_2 = LayerImageScore(printedImage_2)\n",
    "var_2 = np.var(result_array_2)\n",
    "std_2 = np.std(result_array_2)\n",
    "m_2 = np.mean(result_array_2)\n",
    "\n",
    "#print(grayScalePrintedImage.shape)\n",
    "\n",
    "std_avg = (std + std_2) / 2\n",
    "m_avg = (m + m_2) / 2\n",
    "print(\"mean = \", m_avg)\n",
    "print(\"std = \", std_avg)\n",
    "\n",
    "#cv2.imshow(\"printedImage\", printedImage)\n",
    "#cv2.waitKey(0)\n",
    "#cv2.destroyAllWindows()"
   ]
  },
  {
   "cell_type": "markdown",
   "id": "53642bfe",
   "metadata": {},
   "source": [
    "# Bayesian Optimization"
   ]
  },
  {
   "cell_type": "code",
   "execution_count": 7,
   "id": "3f1eb73b",
   "metadata": {},
   "outputs": [
    {
     "name": "stdout",
     "output_type": "stream",
     "text": [
      "|   iter    |  target   |  height   | pressu... | velocity  |\n",
      "-------------------------------------------------------------\n",
      "V :  10.0\n",
      "P :  146.9\n",
      "H :  0.48\n",
      "enter printing score : 25\n",
      "| \u001b[0m 1       \u001b[0m | \u001b[0m 25.0    \u001b[0m | \u001b[0m 0.4753  \u001b[0m | \u001b[0m 14.69   \u001b[0m | \u001b[0m 10.0    \u001b[0m |\n",
      "V :  10.92\n",
      "P :  41.4\n",
      "H :  0.37\n",
      "enter printing score : 34\n",
      "| \u001b[95m 2       \u001b[0m | \u001b[95m 34.0    \u001b[0m | \u001b[95m 0.3721  \u001b[0m | \u001b[95m 3.788   \u001b[0m | \u001b[95m 10.92   \u001b[0m |\n",
      "V :  10.96\n",
      "P :  42.1\n",
      "H :  0.55\n",
      "enter printing score : 46\n",
      "| \u001b[95m 3       \u001b[0m | \u001b[95m 46.0    \u001b[0m | \u001b[95m 0.5546  \u001b[0m | \u001b[95m 3.845   \u001b[0m | \u001b[95m 10.96   \u001b[0m |\n",
      "V :  11.75\n",
      "P :  187.5\n",
      "H :  0.58\n",
      "enter printing score : 32\n",
      "| \u001b[0m 4       \u001b[0m | \u001b[0m 32.0    \u001b[0m | \u001b[0m 0.5791  \u001b[0m | \u001b[0m 15.96   \u001b[0m | \u001b[0m 11.75   \u001b[0m |\n",
      "=============================================================\n"
     ]
    }
   ],
   "source": [
    "from bayes_opt import BayesianOptimization\n",
    "from bayes_opt.logger import JSONLogger\n",
    "from bayes_opt.event import Events\n",
    "\n",
    "from bayes_opt.util import load_logs\n",
    "\n",
    "def black_box_function(velocity, pressure_over_velocity, height):\n",
    "    print(\"V : \", round(velocity, 2))\n",
    "    print(\"P : \", round(pressure_over_velocity * velocity, 1))\n",
    "    print(\"H : \", round(height, 2))\n",
    "    #experiment and input the print-score here\n",
    "    return float(input(\"enter printing score : \"))\n",
    "\n",
    "pbounds = {'velocity': (10, 20), 'pressure_over_velocity': (1, 20), 'height': (0.1, 1)}\n",
    "\n",
    "optimizer = BayesianOptimization(\n",
    "    f=black_box_function,\n",
    "    pbounds=pbounds,\n",
    "    verbose=2, # verbose = 1 prints only when a maximum is observed, verbose = 0 is silent\n",
    "    random_state=1,\n",
    ")\n",
    "\n",
    "#load_logs(optimizer, logs=[\"/Users/jonghyun/Desktop/logs/2_19.json\"])\n",
    "\n",
    "#logger = JSONLogger(path=\"/Users/jonghyun/Desktop/logs/2_18.json\")\n",
    "#optimizer.subscribe(Events.OPTIMIZATION_STEP, logger)\n",
    "\n",
    "#optimizer.set_bounds(new_bounds={'velocity': (10, 20), 'pressure_over_velocity': (2, 20), 'height': (0.1, 1)})\n",
    "\n",
    "optimizer.maximize(\n",
    "    init_points=2,\n",
    "    n_iter=2,\n",
    ")"
   ]
  },
  {
   "cell_type": "code",
   "execution_count": 8,
   "id": "6a2562ae",
   "metadata": {},
   "outputs": [
    {
     "name": "stdout",
     "output_type": "stream",
     "text": [
      "|   iter    |  target   |  height   | pressu... | velocity  |\n",
      "-------------------------------------------------------------\n",
      "V :  17.47\n",
      "P :  117.0\n",
      "H :  0.64\n",
      "enter printing score : 56\n",
      "| \u001b[95m 5       \u001b[0m | \u001b[95m 56.0    \u001b[0m | \u001b[95m 0.6363  \u001b[0m | \u001b[95m 6.698   \u001b[0m | \u001b[95m 17.47   \u001b[0m |\n",
      "V :  19.47\n",
      "P :  93.5\n",
      "H :  0.3\n",
      "enter printing score : 43\n",
      "| \u001b[0m 6       \u001b[0m | \u001b[0m 43.0    \u001b[0m | \u001b[0m 0.3048  \u001b[0m | \u001b[0m 4.801   \u001b[0m | \u001b[0m 19.47   \u001b[0m |\n",
      "=============================================================\n"
     ]
    }
   ],
   "source": [
    "optimizer.set_bounds(new_bounds={'velocity': (10, 20), 'pressure_over_velocity': (2, 20), 'height': (0.1, 1)})\n",
    "optimizer.maximize(\n",
    "    init_points=0,\n",
    "    n_iter=2,\n",
    ")"
   ]
  },
  {
   "cell_type": "code",
   "execution_count": null,
   "id": "0034ab9b",
   "metadata": {},
   "outputs": [],
   "source": []
  }
 ],
 "metadata": {
  "kernelspec": {
   "display_name": "Python 3 (ipykernel)",
   "language": "python",
   "name": "python3"
  },
  "language_info": {
   "codemirror_mode": {
    "name": "ipython",
    "version": 3
   },
   "file_extension": ".py",
   "mimetype": "text/x-python",
   "name": "python",
   "nbconvert_exporter": "python",
   "pygments_lexer": "ipython3",
   "version": "3.7.13"
  }
 },
 "nbformat": 4,
 "nbformat_minor": 5
}
